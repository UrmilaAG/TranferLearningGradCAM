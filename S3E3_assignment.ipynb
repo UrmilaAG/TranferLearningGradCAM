{
 "cells": [
  {
   "cell_type": "markdown",
   "metadata": {
    "id": "P2z4TV--KHzg",
    "colab_type": "text"
   },
   "source": [
    "### From this program learnings are\n",
    "1.  Resnet18 \n",
    "2. Tranfer learning by freezing the layers \n",
    "3.  Use of grad-CAM to check where the kernel is looking or analyzing "
   ]
  },
  {
   "cell_type": "markdown",
   "metadata": {
    "id": "U67kvUBnLYWc",
    "colab_type": "text"
   },
   "source": [
    "###installation of Keras"
   ]
  },
  {
   "cell_type": "code",
   "execution_count": 0,
   "metadata": {
    "id": "tAiN1BTtAQnk",
    "colab_type": "code",
    "colab": {}
   },
   "outputs": [],
   "source": [
    "import keras"
   ]
  },
  {
   "cell_type": "markdown",
   "metadata": {
    "id": "eb9V510tAXsy",
    "colab_type": "text"
   },
   "source": [
    "### Trained image classifiers are present in this package (https://pypi.org/project/image-classifiers/) "
   ]
  },
  {
   "cell_type": "code",
   "execution_count": 4,
   "metadata": {
    "id": "nYS6mevNAyei",
    "colab_type": "code",
    "colab": {
     "base_uri": "https://localhost:8080/",
     "height": 235.0
    },
    "outputId": "9d3aa142-958e-4340-dbfd-9e8c86cdcf47",
    "executionInfo": {
     "status": "ok",
     "timestamp": 1.562766438027E12,
     "user_tz": -330.0,
     "elapsed": 13605.0,
     "user": {
      "displayName": "Urmila Airsang",
      "photoUrl": "https://lh5.googleusercontent.com/-lYIovmob2c4/AAAAAAAAAAI/AAAAAAAAAOk/emXLpR62El4/s64/photo.jpg",
      "userId": "16334715475113401385"
     }
    }
   },
   "outputs": [
    {
     "name": "stdout",
     "output_type": "stream",
     "text": [
      "Collecting image-classifiers\n",
      "\u001b[?25l  Downloading https://files.pythonhosted.org/packages/8d/7f/31234ee4bc8243f9e8b59b827e8a61436d7269cf75936b0aecc48a08f06c/image_classifiers-0.2.2-py2.py3-none-any.whl (72kB)\n",
      "\u001b[K     |████████████████████████████████| 81kB 3.2MB/s \n",
      "\u001b[?25hRequirement already satisfied: keras>=2.1.0 in /usr/local/lib/python3.6/dist-packages (from image-classifiers) (2.2.4)\n",
      "Requirement already satisfied: keras-preprocessing>=1.0.5 in /usr/local/lib/python3.6/dist-packages (from keras>=2.1.0->image-classifiers) (1.1.0)\n",
      "Requirement already satisfied: scipy>=0.14 in /usr/local/lib/python3.6/dist-packages (from keras>=2.1.0->image-classifiers) (1.3.0)\n",
      "Requirement already satisfied: h5py in /usr/local/lib/python3.6/dist-packages (from keras>=2.1.0->image-classifiers) (2.8.0)\n",
      "Requirement already satisfied: six>=1.9.0 in /usr/local/lib/python3.6/dist-packages (from keras>=2.1.0->image-classifiers) (1.12.0)\n",
      "Requirement already satisfied: keras-applications>=1.0.6 in /usr/local/lib/python3.6/dist-packages (from keras>=2.1.0->image-classifiers) (1.0.8)\n",
      "Requirement already satisfied: numpy>=1.9.1 in /usr/local/lib/python3.6/dist-packages (from keras>=2.1.0->image-classifiers) (1.16.4)\n",
      "Requirement already satisfied: pyyaml in /usr/local/lib/python3.6/dist-packages (from keras>=2.1.0->image-classifiers) (3.13)\n",
      "Installing collected packages: image-classifiers\n",
      "Successfully installed image-classifiers-0.2.2\n"
     ]
    }
   ],
   "source": [
    "pip install image-classifiers"
   ]
  },
  {
   "cell_type": "markdown",
   "metadata": {
    "id": "Ks57ZlnXLqZO",
    "colab_type": "text"
   },
   "source": [
    "### Create a base model of ResNet18\n",
    "\n",
    "ResNet-18 is a convolutional neural network that is trained on more than a million images from the ImageNet database. The network is 18 layers deep and can classify images into 1000 object categories, such as keyboard, mouse, pencil, and many animals. \n",
    "https://www.mathworks.com/help/deeplearning/ref/resnet18.html\n",
    "\n",
    "Note: to change the input size according to the image size in hand\n",
    "This is possible when there is no fully connected layer at the end\n",
    "So in this tranfer-learning, if pre-trained model contains FC layer than remove it using include_top = False "
   ]
  },
  {
   "cell_type": "code",
   "execution_count": 5,
   "metadata": {
    "id": "v3xKpawnA44t",
    "colab_type": "code",
    "colab": {
     "base_uri": "https://localhost:8080/",
     "height": 322.0
    },
    "outputId": "9773da4e-1e61-4679-f8e5-70de8c0d81b3",
    "executionInfo": {
     "status": "ok",
     "timestamp": 1.562766449869E12,
     "user_tz": -330.0,
     "elapsed": 20829.0,
     "user": {
      "displayName": "Urmila Airsang",
      "photoUrl": "https://lh5.googleusercontent.com/-lYIovmob2c4/AAAAAAAAAAI/AAAAAAAAAOk/emXLpR62El4/s64/photo.jpg",
      "userId": "16334715475113401385"
     }
    }
   },
   "outputs": [
    {
     "name": "stderr",
     "output_type": "stream",
     "text": [
      "WARNING: Logging before flag parsing goes to stderr.\n",
      "W0710 13:47:17.472418 139715639162752 deprecation_wrapper.py:119] From /usr/local/lib/python3.6/dist-packages/keras/backend/tensorflow_backend.py:517: The name tf.placeholder is deprecated. Please use tf.compat.v1.placeholder instead.\n",
      "\n",
      "W0710 13:47:17.537541 139715639162752 deprecation_wrapper.py:119] From /usr/local/lib/python3.6/dist-packages/keras/backend/tensorflow_backend.py:245: The name tf.get_default_graph is deprecated. Please use tf.compat.v1.get_default_graph instead.\n",
      "\n",
      "W0710 13:47:17.538844 139715639162752 deprecation_wrapper.py:119] From /usr/local/lib/python3.6/dist-packages/keras/backend/tensorflow_backend.py:174: The name tf.get_default_session is deprecated. Please use tf.compat.v1.get_default_session instead.\n",
      "\n",
      "W0710 13:47:17.540486 139715639162752 deprecation_wrapper.py:119] From /usr/local/lib/python3.6/dist-packages/keras/backend/tensorflow_backend.py:181: The name tf.ConfigProto is deprecated. Please use tf.compat.v1.ConfigProto instead.\n",
      "\n",
      "W0710 13:47:17.542133 139715639162752 deprecation_wrapper.py:119] From /usr/local/lib/python3.6/dist-packages/keras/backend/tensorflow_backend.py:186: The name tf.Session is deprecated. Please use tf.compat.v1.Session instead.\n",
      "\n",
      "W0710 13:47:20.411293 139715639162752 deprecation_wrapper.py:119] From /usr/local/lib/python3.6/dist-packages/keras/backend/tensorflow_backend.py:1834: The name tf.nn.fused_batch_norm is deprecated. Please use tf.compat.v1.nn.fused_batch_norm instead.\n",
      "\n",
      "W0710 13:47:20.620816 139715639162752 deprecation_wrapper.py:119] From /usr/local/lib/python3.6/dist-packages/keras/backend/tensorflow_backend.py:3976: The name tf.nn.max_pool is deprecated. Please use tf.nn.max_pool2d instead.\n",
      "\n"
     ]
    },
    {
     "name": "stdout",
     "output_type": "stream",
     "text": [
      "Downloading data from https://github.com/qubvel/classification_models/releases/download/0.0.1/resnet18_imagenet_1000_no_top.h5\n",
      "44924928/44920640 [==============================] - 4s 0us/step\n"
     ]
    }
   ],
   "source": [
    "from classification_models.resnet import ResNet18, preprocess_input\n",
    "\n",
    "base_model = ResNet18((32, 32, 3), weights='imagenet', include_top=False)"
   ]
  },
  {
   "cell_type": "markdown",
   "metadata": {
    "id": "IRvEVET5CWPL",
    "colab_type": "text"
   },
   "source": [
    "###Check the summary, FC layer is removed"
   ]
  },
  {
   "cell_type": "code",
   "execution_count": 6,
   "metadata": {
    "id": "ZLTJgNpqLk9E",
    "colab_type": "code",
    "colab": {
     "base_uri": "https://localhost:8080/",
     "height": 1000.0
    },
    "outputId": "4859987a-4e6b-4010-c001-2632c2d009a1",
    "executionInfo": {
     "status": "ok",
     "timestamp": 1.56276644988E12,
     "user_tz": -330.0,
     "elapsed": 17905.0,
     "user": {
      "displayName": "Urmila Airsang",
      "photoUrl": "https://lh5.googleusercontent.com/-lYIovmob2c4/AAAAAAAAAAI/AAAAAAAAAOk/emXLpR62El4/s64/photo.jpg",
      "userId": "16334715475113401385"
     }
    }
   },
   "outputs": [
    {
     "name": "stdout",
     "output_type": "stream",
     "text": [
      "__________________________________________________________________________________________________\n",
      "Layer (type)                    Output Shape         Param #     Connected to                     \n",
      "==================================================================================================\n",
      "data (InputLayer)               (None, 32, 32, 3)    0                                            \n",
      "__________________________________________________________________________________________________\n",
      "bn_data (BatchNormalization)    (None, 32, 32, 3)    9           data[0][0]                       \n",
      "__________________________________________________________________________________________________\n",
      "zero_padding2d_1 (ZeroPadding2D (None, 38, 38, 3)    0           bn_data[0][0]                    \n",
      "__________________________________________________________________________________________________\n",
      "conv0 (Conv2D)                  (None, 16, 16, 64)   9408        zero_padding2d_1[0][0]           \n",
      "__________________________________________________________________________________________________\n",
      "bn0 (BatchNormalization)        (None, 16, 16, 64)   256         conv0[0][0]                      \n",
      "__________________________________________________________________________________________________\n",
      "relu0 (Activation)              (None, 16, 16, 64)   0           bn0[0][0]                        \n",
      "__________________________________________________________________________________________________\n",
      "zero_padding2d_2 (ZeroPadding2D (None, 18, 18, 64)   0           relu0[0][0]                      \n",
      "__________________________________________________________________________________________________\n",
      "pooling0 (MaxPooling2D)         (None, 8, 8, 64)     0           zero_padding2d_2[0][0]           \n",
      "__________________________________________________________________________________________________\n",
      "stage1_unit1_bn1 (BatchNormaliz (None, 8, 8, 64)     256         pooling0[0][0]                   \n",
      "__________________________________________________________________________________________________\n",
      "stage1_unit1_relu1 (Activation) (None, 8, 8, 64)     0           stage1_unit1_bn1[0][0]           \n",
      "__________________________________________________________________________________________________\n",
      "zero_padding2d_3 (ZeroPadding2D (None, 10, 10, 64)   0           stage1_unit1_relu1[0][0]         \n",
      "__________________________________________________________________________________________________\n",
      "stage1_unit1_conv1 (Conv2D)     (None, 8, 8, 64)     36864       zero_padding2d_3[0][0]           \n",
      "__________________________________________________________________________________________________\n",
      "stage1_unit1_bn2 (BatchNormaliz (None, 8, 8, 64)     256         stage1_unit1_conv1[0][0]         \n",
      "__________________________________________________________________________________________________\n",
      "stage1_unit1_relu2 (Activation) (None, 8, 8, 64)     0           stage1_unit1_bn2[0][0]           \n",
      "__________________________________________________________________________________________________\n",
      "zero_padding2d_4 (ZeroPadding2D (None, 10, 10, 64)   0           stage1_unit1_relu2[0][0]         \n",
      "__________________________________________________________________________________________________\n",
      "stage1_unit1_conv2 (Conv2D)     (None, 8, 8, 64)     36864       zero_padding2d_4[0][0]           \n",
      "__________________________________________________________________________________________________\n",
      "stage1_unit1_sc (Conv2D)        (None, 8, 8, 64)     4096        stage1_unit1_relu1[0][0]         \n",
      "__________________________________________________________________________________________________\n",
      "add_1 (Add)                     (None, 8, 8, 64)     0           stage1_unit1_conv2[0][0]         \n",
      "                                                                 stage1_unit1_sc[0][0]            \n",
      "__________________________________________________________________________________________________\n",
      "stage1_unit2_bn1 (BatchNormaliz (None, 8, 8, 64)     256         add_1[0][0]                      \n",
      "__________________________________________________________________________________________________\n",
      "stage1_unit2_relu1 (Activation) (None, 8, 8, 64)     0           stage1_unit2_bn1[0][0]           \n",
      "__________________________________________________________________________________________________\n",
      "zero_padding2d_5 (ZeroPadding2D (None, 10, 10, 64)   0           stage1_unit2_relu1[0][0]         \n",
      "__________________________________________________________________________________________________\n",
      "stage1_unit2_conv1 (Conv2D)     (None, 8, 8, 64)     36864       zero_padding2d_5[0][0]           \n",
      "__________________________________________________________________________________________________\n",
      "stage1_unit2_bn2 (BatchNormaliz (None, 8, 8, 64)     256         stage1_unit2_conv1[0][0]         \n",
      "__________________________________________________________________________________________________\n",
      "stage1_unit2_relu2 (Activation) (None, 8, 8, 64)     0           stage1_unit2_bn2[0][0]           \n",
      "__________________________________________________________________________________________________\n",
      "zero_padding2d_6 (ZeroPadding2D (None, 10, 10, 64)   0           stage1_unit2_relu2[0][0]         \n",
      "__________________________________________________________________________________________________\n",
      "stage1_unit2_conv2 (Conv2D)     (None, 8, 8, 64)     36864       zero_padding2d_6[0][0]           \n",
      "__________________________________________________________________________________________________\n",
      "add_2 (Add)                     (None, 8, 8, 64)     0           stage1_unit2_conv2[0][0]         \n",
      "                                                                 add_1[0][0]                      \n",
      "__________________________________________________________________________________________________\n",
      "stage2_unit1_bn1 (BatchNormaliz (None, 8, 8, 64)     256         add_2[0][0]                      \n",
      "__________________________________________________________________________________________________\n",
      "stage2_unit1_relu1 (Activation) (None, 8, 8, 64)     0           stage2_unit1_bn1[0][0]           \n",
      "__________________________________________________________________________________________________\n",
      "zero_padding2d_7 (ZeroPadding2D (None, 10, 10, 64)   0           stage2_unit1_relu1[0][0]         \n",
      "__________________________________________________________________________________________________\n",
      "stage2_unit1_conv1 (Conv2D)     (None, 4, 4, 128)    73728       zero_padding2d_7[0][0]           \n",
      "__________________________________________________________________________________________________\n",
      "stage2_unit1_bn2 (BatchNormaliz (None, 4, 4, 128)    512         stage2_unit1_conv1[0][0]         \n",
      "__________________________________________________________________________________________________\n",
      "stage2_unit1_relu2 (Activation) (None, 4, 4, 128)    0           stage2_unit1_bn2[0][0]           \n",
      "__________________________________________________________________________________________________\n",
      "zero_padding2d_8 (ZeroPadding2D (None, 6, 6, 128)    0           stage2_unit1_relu2[0][0]         \n",
      "__________________________________________________________________________________________________\n",
      "stage2_unit1_conv2 (Conv2D)     (None, 4, 4, 128)    147456      zero_padding2d_8[0][0]           \n",
      "__________________________________________________________________________________________________\n",
      "stage2_unit1_sc (Conv2D)        (None, 4, 4, 128)    8192        stage2_unit1_relu1[0][0]         \n",
      "__________________________________________________________________________________________________\n",
      "add_3 (Add)                     (None, 4, 4, 128)    0           stage2_unit1_conv2[0][0]         \n",
      "                                                                 stage2_unit1_sc[0][0]            \n",
      "__________________________________________________________________________________________________\n",
      "stage2_unit2_bn1 (BatchNormaliz (None, 4, 4, 128)    512         add_3[0][0]                      \n",
      "__________________________________________________________________________________________________\n",
      "stage2_unit2_relu1 (Activation) (None, 4, 4, 128)    0           stage2_unit2_bn1[0][0]           \n",
      "__________________________________________________________________________________________________\n",
      "zero_padding2d_9 (ZeroPadding2D (None, 6, 6, 128)    0           stage2_unit2_relu1[0][0]         \n",
      "__________________________________________________________________________________________________\n",
      "stage2_unit2_conv1 (Conv2D)     (None, 4, 4, 128)    147456      zero_padding2d_9[0][0]           \n",
      "__________________________________________________________________________________________________\n",
      "stage2_unit2_bn2 (BatchNormaliz (None, 4, 4, 128)    512         stage2_unit2_conv1[0][0]         \n",
      "__________________________________________________________________________________________________\n",
      "stage2_unit2_relu2 (Activation) (None, 4, 4, 128)    0           stage2_unit2_bn2[0][0]           \n",
      "__________________________________________________________________________________________________\n",
      "zero_padding2d_10 (ZeroPadding2 (None, 6, 6, 128)    0           stage2_unit2_relu2[0][0]         \n",
      "__________________________________________________________________________________________________\n",
      "stage2_unit2_conv2 (Conv2D)     (None, 4, 4, 128)    147456      zero_padding2d_10[0][0]          \n",
      "__________________________________________________________________________________________________\n",
      "add_4 (Add)                     (None, 4, 4, 128)    0           stage2_unit2_conv2[0][0]         \n",
      "                                                                 add_3[0][0]                      \n",
      "__________________________________________________________________________________________________\n",
      "stage3_unit1_bn1 (BatchNormaliz (None, 4, 4, 128)    512         add_4[0][0]                      \n",
      "__________________________________________________________________________________________________\n",
      "stage3_unit1_relu1 (Activation) (None, 4, 4, 128)    0           stage3_unit1_bn1[0][0]           \n",
      "__________________________________________________________________________________________________\n",
      "zero_padding2d_11 (ZeroPadding2 (None, 6, 6, 128)    0           stage3_unit1_relu1[0][0]         \n",
      "__________________________________________________________________________________________________\n",
      "stage3_unit1_conv1 (Conv2D)     (None, 2, 2, 256)    294912      zero_padding2d_11[0][0]          \n",
      "__________________________________________________________________________________________________\n",
      "stage3_unit1_bn2 (BatchNormaliz (None, 2, 2, 256)    1024        stage3_unit1_conv1[0][0]         \n",
      "__________________________________________________________________________________________________\n",
      "stage3_unit1_relu2 (Activation) (None, 2, 2, 256)    0           stage3_unit1_bn2[0][0]           \n",
      "__________________________________________________________________________________________________\n",
      "zero_padding2d_12 (ZeroPadding2 (None, 4, 4, 256)    0           stage3_unit1_relu2[0][0]         \n",
      "__________________________________________________________________________________________________\n",
      "stage3_unit1_conv2 (Conv2D)     (None, 2, 2, 256)    589824      zero_padding2d_12[0][0]          \n",
      "__________________________________________________________________________________________________\n",
      "stage3_unit1_sc (Conv2D)        (None, 2, 2, 256)    32768       stage3_unit1_relu1[0][0]         \n",
      "__________________________________________________________________________________________________\n",
      "add_5 (Add)                     (None, 2, 2, 256)    0           stage3_unit1_conv2[0][0]         \n",
      "                                                                 stage3_unit1_sc[0][0]            \n",
      "__________________________________________________________________________________________________\n",
      "stage3_unit2_bn1 (BatchNormaliz (None, 2, 2, 256)    1024        add_5[0][0]                      \n",
      "__________________________________________________________________________________________________\n",
      "stage3_unit2_relu1 (Activation) (None, 2, 2, 256)    0           stage3_unit2_bn1[0][0]           \n",
      "__________________________________________________________________________________________________\n",
      "zero_padding2d_13 (ZeroPadding2 (None, 4, 4, 256)    0           stage3_unit2_relu1[0][0]         \n",
      "__________________________________________________________________________________________________\n",
      "stage3_unit2_conv1 (Conv2D)     (None, 2, 2, 256)    589824      zero_padding2d_13[0][0]          \n",
      "__________________________________________________________________________________________________\n",
      "stage3_unit2_bn2 (BatchNormaliz (None, 2, 2, 256)    1024        stage3_unit2_conv1[0][0]         \n",
      "__________________________________________________________________________________________________\n",
      "stage3_unit2_relu2 (Activation) (None, 2, 2, 256)    0           stage3_unit2_bn2[0][0]           \n",
      "__________________________________________________________________________________________________\n",
      "zero_padding2d_14 (ZeroPadding2 (None, 4, 4, 256)    0           stage3_unit2_relu2[0][0]         \n",
      "__________________________________________________________________________________________________\n",
      "stage3_unit2_conv2 (Conv2D)     (None, 2, 2, 256)    589824      zero_padding2d_14[0][0]          \n",
      "__________________________________________________________________________________________________\n",
      "add_6 (Add)                     (None, 2, 2, 256)    0           stage3_unit2_conv2[0][0]         \n",
      "                                                                 add_5[0][0]                      \n",
      "__________________________________________________________________________________________________\n",
      "stage4_unit1_bn1 (BatchNormaliz (None, 2, 2, 256)    1024        add_6[0][0]                      \n",
      "__________________________________________________________________________________________________\n",
      "stage4_unit1_relu1 (Activation) (None, 2, 2, 256)    0           stage4_unit1_bn1[0][0]           \n",
      "__________________________________________________________________________________________________\n",
      "zero_padding2d_15 (ZeroPadding2 (None, 4, 4, 256)    0           stage4_unit1_relu1[0][0]         \n",
      "__________________________________________________________________________________________________\n",
      "stage4_unit1_conv1 (Conv2D)     (None, 1, 1, 512)    1179648     zero_padding2d_15[0][0]          \n",
      "__________________________________________________________________________________________________\n",
      "stage4_unit1_bn2 (BatchNormaliz (None, 1, 1, 512)    2048        stage4_unit1_conv1[0][0]         \n",
      "__________________________________________________________________________________________________\n",
      "stage4_unit1_relu2 (Activation) (None, 1, 1, 512)    0           stage4_unit1_bn2[0][0]           \n",
      "__________________________________________________________________________________________________\n",
      "zero_padding2d_16 (ZeroPadding2 (None, 3, 3, 512)    0           stage4_unit1_relu2[0][0]         \n",
      "__________________________________________________________________________________________________\n",
      "stage4_unit1_conv2 (Conv2D)     (None, 1, 1, 512)    2359296     zero_padding2d_16[0][0]          \n",
      "__________________________________________________________________________________________________\n",
      "stage4_unit1_sc (Conv2D)        (None, 1, 1, 512)    131072      stage4_unit1_relu1[0][0]         \n",
      "__________________________________________________________________________________________________\n",
      "add_7 (Add)                     (None, 1, 1, 512)    0           stage4_unit1_conv2[0][0]         \n",
      "                                                                 stage4_unit1_sc[0][0]            \n",
      "__________________________________________________________________________________________________\n",
      "stage4_unit2_bn1 (BatchNormaliz (None, 1, 1, 512)    2048        add_7[0][0]                      \n",
      "__________________________________________________________________________________________________\n",
      "stage4_unit2_relu1 (Activation) (None, 1, 1, 512)    0           stage4_unit2_bn1[0][0]           \n",
      "__________________________________________________________________________________________________\n",
      "zero_padding2d_17 (ZeroPadding2 (None, 3, 3, 512)    0           stage4_unit2_relu1[0][0]         \n",
      "__________________________________________________________________________________________________\n",
      "stage4_unit2_conv1 (Conv2D)     (None, 1, 1, 512)    2359296     zero_padding2d_17[0][0]          \n",
      "__________________________________________________________________________________________________\n",
      "stage4_unit2_bn2 (BatchNormaliz (None, 1, 1, 512)    2048        stage4_unit2_conv1[0][0]         \n",
      "__________________________________________________________________________________________________\n",
      "stage4_unit2_relu2 (Activation) (None, 1, 1, 512)    0           stage4_unit2_bn2[0][0]           \n",
      "__________________________________________________________________________________________________\n",
      "zero_padding2d_18 (ZeroPadding2 (None, 3, 3, 512)    0           stage4_unit2_relu2[0][0]         \n",
      "__________________________________________________________________________________________________\n",
      "stage4_unit2_conv2 (Conv2D)     (None, 1, 1, 512)    2359296     zero_padding2d_18[0][0]          \n",
      "__________________________________________________________________________________________________\n",
      "add_8 (Add)                     (None, 1, 1, 512)    0           stage4_unit2_conv2[0][0]         \n",
      "                                                                 add_7[0][0]                      \n",
      "__________________________________________________________________________________________________\n",
      "bn1 (BatchNormalization)        (None, 1, 1, 512)    2048        add_8[0][0]                      \n",
      "__________________________________________________________________________________________________\n",
      "relu1 (Activation)              (None, 1, 1, 512)    0           bn1[0][0]                        \n",
      "==================================================================================================\n",
      "Total params: 11,186,889\n",
      "Trainable params: 11,178,947\n",
      "Non-trainable params: 7,942\n",
      "__________________________________________________________________________________________________\n"
     ]
    }
   ],
   "source": [
    "base_model.summary()"
   ]
  },
  {
   "cell_type": "markdown",
   "metadata": {
    "id": "miu9bck9NEeC",
    "colab_type": "text"
   },
   "source": [
    "###Note: every architecture has its own preprocessing unit\n",
    "\n",
    "so that input images are processed according to the model requirement\n",
    "Preprocessing unit might do decoding, cropping, resizing, smoothing, edge sharpening etc\n",
    "\n",
    "So before sending directly the input images to the model its recommanded to preprocess them using preprocessing unit"
   ]
  },
  {
   "cell_type": "code",
   "execution_count": 0,
   "metadata": {
    "id": "P8fYcjpgMxJn",
    "colab_type": "code",
    "colab": {}
   },
   "outputs": [],
   "source": [
    "from keras.datasets import cifar10\n",
    "from skimage.transform import resize\n",
    "import numpy as np\n",
    "from keras.utils.np_utils import to_categorical"
   ]
  },
  {
   "cell_type": "markdown",
   "metadata": {
    "id": "Ro6-48njO-0d",
    "colab_type": "text"
   },
   "source": [
    "Spilt the test and tain data \n",
    "Here labels are in numbers so change to one hot encoding"
   ]
  },
  {
   "cell_type": "code",
   "execution_count": 8,
   "metadata": {
    "id": "J5gsMDKGO9m2",
    "colab_type": "code",
    "colab": {
     "base_uri": "https://localhost:8080/",
     "height": 319.0
    },
    "outputId": "04866f6e-a239-4c1e-f8ca-fb7cf1aaa821",
    "executionInfo": {
     "status": "ok",
     "timestamp": 1.562766465653E12,
     "user_tz": -330.0,
     "elapsed": 29771.0,
     "user": {
      "displayName": "Urmila Airsang",
      "photoUrl": "https://lh5.googleusercontent.com/-lYIovmob2c4/AAAAAAAAAAI/AAAAAAAAAOk/emXLpR62El4/s64/photo.jpg",
      "userId": "16334715475113401385"
     }
    }
   },
   "outputs": [
    {
     "name": "stdout",
     "output_type": "stream",
     "text": [
      "Downloading data from https://www.cs.toronto.edu/~kriz/cifar-10-python.tar.gz\n",
      "170500096/170498071 [==============================] - 11s 0us/step\n",
      "[[6]\n",
      " [9]\n",
      " [9]\n",
      " ...\n",
      " [9]\n",
      " [1]\n",
      " [1]]\n",
      "[[0. 0. 0. ... 0. 0. 0.]\n",
      " [0. 0. 0. ... 0. 0. 1.]\n",
      " [0. 0. 0. ... 0. 0. 1.]\n",
      " ...\n",
      " [0. 0. 0. ... 0. 0. 1.]\n",
      " [0. 1. 0. ... 0. 0. 0.]\n",
      " [0. 1. 0. ... 0. 0. 0.]]\n",
      "(50000, 32, 32, 3)\n",
      "(10000, 32, 32, 3)\n"
     ]
    }
   ],
   "source": [
    "# The data, split between train and test sets:\n",
    "(X, y), (xt, yt) = cifar10.load_data()\n",
    "\n",
    "# create output catagorical\n",
    "ytrain=to_categorical(y)\n",
    "ytrain=np.array(ytrain)\n",
    "print(y)\n",
    "print(ytrain)\n",
    "\n",
    "Xp = preprocess_input(X)\n",
    "print(Xp.shape)\n",
    "\n",
    "Xtest = preprocess_input(xt)\n",
    "print(Xtest.shape)"
   ]
  },
  {
   "cell_type": "markdown",
   "metadata": {
    "id": "iZpci2ZMP9Zx",
    "colab_type": "text"
   },
   "source": [
    "###Freezing layers of base model\n",
    "Good thing to do is first freeze all layers, then make true required layers"
   ]
  },
  {
   "cell_type": "code",
   "execution_count": 9,
   "metadata": {
    "id": "rizELth9PRAM",
    "colab_type": "code",
    "colab": {
     "base_uri": "https://localhost:8080/",
     "height": 1000.0
    },
    "outputId": "9ad8af90-1eeb-4a04-c15c-21c086ae4e4a",
    "executionInfo": {
     "status": "ok",
     "timestamp": 1.562766465655E12,
     "user_tz": -330.0,
     "elapsed": 27719.0,
     "user": {
      "displayName": "Urmila Airsang",
      "photoUrl": "https://lh5.googleusercontent.com/-lYIovmob2c4/AAAAAAAAAAI/AAAAAAAAAOk/emXLpR62El4/s64/photo.jpg",
      "userId": "16334715475113401385"
     }
    }
   },
   "outputs": [
    {
     "name": "stdout",
     "output_type": "stream",
     "text": [
      "<keras.engine.input_layer.InputLayer object at 0x7f11cba9b9b0> False\n",
      "<keras.layers.normalization.BatchNormalization object at 0x7f11cba9b8d0> False\n",
      "<keras.layers.convolutional.ZeroPadding2D object at 0x7f1212de8b38> False\n",
      "<keras.layers.convolutional.Conv2D object at 0x7f11cb3aaf60> False\n",
      "<keras.layers.normalization.BatchNormalization object at 0x7f11c1d48cf8> False\n",
      "<keras.layers.core.Activation object at 0x7f11c1d48e10> False\n",
      "<keras.layers.convolutional.ZeroPadding2D object at 0x7f11c1cbe780> False\n",
      "<keras.layers.pooling.MaxPooling2D object at 0x7f11c1c92a58> False\n",
      "<keras.layers.normalization.BatchNormalization object at 0x7f11c1ced630> False\n",
      "<keras.layers.core.Activation object at 0x7f11c1c32630> False\n",
      "<keras.layers.convolutional.ZeroPadding2D object at 0x7f11c1ba8160> False\n",
      "<keras.layers.convolutional.Conv2D object at 0x7f11c1ba8f98> False\n",
      "<keras.layers.normalization.BatchNormalization object at 0x7f11c1b40d68> False\n",
      "<keras.layers.core.Activation object at 0x7f11c1b212b0> False\n",
      "<keras.layers.convolutional.ZeroPadding2D object at 0x7f1212de8828> False\n",
      "<keras.layers.convolutional.Conv2D object at 0x7f11c1af0dd8> False\n",
      "<keras.layers.convolutional.Conv2D object at 0x7f11c1bdabe0> False\n",
      "<keras.layers.merge.Add object at 0x7f11c1a19208> False\n",
      "<keras.layers.normalization.BatchNormalization object at 0x7f11c1a190f0> False\n",
      "<keras.layers.core.Activation object at 0x7f11c1a19f28> False\n",
      "<keras.layers.convolutional.ZeroPadding2D object at 0x7f11c1a19f60> False\n",
      "<keras.layers.convolutional.Conv2D object at 0x7f11c1a19b38> False\n",
      "<keras.layers.normalization.BatchNormalization object at 0x7f11c1977a90> False\n",
      "<keras.layers.core.Activation object at 0x7f11c1a45ba8> False\n",
      "<keras.layers.convolutional.ZeroPadding2D object at 0x7f11c18e7320> False\n",
      "<keras.layers.convolutional.Conv2D object at 0x7f11c192bbe0> False\n",
      "<keras.layers.merge.Add object at 0x7f11c1860e48> False\n",
      "<keras.layers.normalization.BatchNormalization object at 0x7f11c1860ba8> False\n",
      "<keras.layers.core.Activation object at 0x7f11c1860be0> False\n",
      "<keras.layers.convolutional.ZeroPadding2D object at 0x7f11c182bf28> False\n",
      "<keras.layers.convolutional.Conv2D object at 0x7f11c17b8fd0> False\n",
      "<keras.layers.normalization.BatchNormalization object at 0x7f11c1765d30> False\n",
      "<keras.layers.core.Activation object at 0x7f11c1765d68> False\n",
      "<keras.layers.convolutional.ZeroPadding2D object at 0x7f11c1717b70> False\n",
      "<keras.layers.convolutional.Conv2D object at 0x7f11c172e588> False\n",
      "<keras.layers.convolutional.Conv2D object at 0x7f11c17cb898> False\n",
      "<keras.layers.merge.Add object at 0x7f11c1665048> False\n",
      "<keras.layers.normalization.BatchNormalization object at 0x7f11c1665438> False\n",
      "<keras.layers.core.Activation object at 0x7f11c1665f28> False\n",
      "<keras.layers.convolutional.ZeroPadding2D object at 0x7f11c1632f98> False\n",
      "<keras.layers.convolutional.Conv2D object at 0x7f11c1618b38> False\n",
      "<keras.layers.normalization.BatchNormalization object at 0x7f11c154ba58> False\n",
      "<keras.layers.core.Activation object at 0x7f11c1618a90> False\n",
      "<keras.layers.convolutional.ZeroPadding2D object at 0x7f11c1566b38> False\n",
      "<keras.layers.convolutional.Conv2D object at 0x7f11c1566240> False\n",
      "<keras.layers.merge.Add object at 0x7f11c14b2e10> False\n",
      "<keras.layers.normalization.BatchNormalization object at 0x7f11c14b2b70> False\n",
      "<keras.layers.core.Activation object at 0x7f11c14b2ba8> False\n",
      "<keras.layers.convolutional.ZeroPadding2D object at 0x7f11c147ff60> False\n",
      "<keras.layers.convolutional.Conv2D object at 0x7f11c13f6630> False\n",
      "<keras.layers.normalization.BatchNormalization object at 0x7f11c13ae9e8> False\n",
      "<keras.layers.core.Activation object at 0x7f11c13aec88> False\n",
      "<keras.layers.convolutional.ZeroPadding2D object at 0x7f11c1313828> False\n",
      "<keras.layers.convolutional.Conv2D object at 0x7f11c135ff60> False\n",
      "<keras.layers.convolutional.Conv2D object at 0x7f11c13cfda0> False\n",
      "<keras.layers.merge.Add object at 0x7f11c12fe6a0> False\n",
      "<keras.layers.normalization.BatchNormalization object at 0x7f11c12a7278> False\n",
      "<keras.layers.core.Activation object at 0x7f11c12a7e48> False\n",
      "<keras.layers.convolutional.ZeroPadding2D object at 0x7f11c1275dd8> False\n",
      "<keras.layers.convolutional.Conv2D object at 0x7f11c1258a20> False\n",
      "<keras.layers.normalization.BatchNormalization object at 0x7f11c11920f0> False\n",
      "<keras.layers.core.Activation object at 0x7f11c1192f98> False\n",
      "<keras.layers.convolutional.ZeroPadding2D object at 0x7f11c1258978> False\n",
      "<keras.layers.convolutional.Conv2D object at 0x7f11c11ad9e8> False\n",
      "<keras.layers.merge.Add object at 0x7f11c10f4cf8> False\n",
      "<keras.layers.normalization.BatchNormalization object at 0x7f11c10f4be0> False\n",
      "<keras.layers.core.Activation object at 0x7f11c10f4b70> False\n",
      "<keras.layers.convolutional.ZeroPadding2D object at 0x7f11c10bfe48> False\n",
      "<keras.layers.convolutional.Conv2D object at 0x7f11c0fcdeb8> False\n",
      "<keras.layers.normalization.BatchNormalization object at 0x7f11c0ff4be0> False\n",
      "<keras.layers.core.Activation object at 0x7f11c0ff4c18> False\n",
      "<keras.layers.convolutional.ZeroPadding2D object at 0x7f11c0f627f0> False\n",
      "<keras.layers.convolutional.Conv2D object at 0x7f11c0fabf28> False\n",
      "<keras.layers.convolutional.Conv2D object at 0x7f11c105d748> False\n",
      "<keras.layers.merge.Add object at 0x7f11c0ed0630> False\n",
      "<keras.layers.normalization.BatchNormalization object at 0x7f11c0ef8208> False\n",
      "<keras.layers.core.Activation object at 0x7f11c0ef8e10> False\n",
      "<keras.layers.convolutional.ZeroPadding2D object at 0x7f11c0ec5da0> False\n",
      "<keras.layers.convolutional.Conv2D object at 0x7f11c0ea79e8> False\n",
      "<keras.layers.normalization.BatchNormalization object at 0x7f11c0dd90f0> False\n",
      "<keras.layers.core.Activation object at 0x7f11c0dd9f98> False\n",
      "<keras.layers.convolutional.ZeroPadding2D object at 0x7f11c0ea7940> False\n",
      "<keras.layers.convolutional.Conv2D object at 0x7f11c0df09e8> True\n",
      "<keras.layers.merge.Add object at 0x7f11c0d34cc0> True\n",
      "<keras.layers.normalization.BatchNormalization object at 0x7f11c1ced9b0> True\n",
      "<keras.layers.core.Activation object at 0x7f11c0d34b38> True\n"
     ]
    }
   ],
   "source": [
    "# Freeze the layers of base_model\n",
    "for layer in base_model.layers:\n",
    "    layer.trainable = False\n",
    "  \n",
    "for layer in base_model.layers[-4:]:\n",
    "  layer.trainable = True\n",
    "  \n",
    "# Check the trainable status of the individual layers\n",
    "for layer in base_model.layers:\n",
    "     print(layer, layer.trainable)"
   ]
  },
  {
   "cell_type": "markdown",
   "metadata": {
    "id": "q3utBmXmSzCK",
    "colab_type": "text"
   },
   "source": [
    "###What is the difference between using convolution layer and dense layer?"
   ]
  },
  {
   "cell_type": "code",
   "execution_count": 10,
   "metadata": {
    "id": "oVgsSIKQQOBC",
    "colab_type": "code",
    "colab": {
     "base_uri": "https://localhost:8080/",
     "height": 1000.0
    },
    "outputId": "bf246514-d97b-4d80-92e9-5f1d6a80875e",
    "executionInfo": {
     "status": "ok",
     "timestamp": 1.562766465656E12,
     "user_tz": -330.0,
     "elapsed": 25726.0,
     "user": {
      "displayName": "Urmila Airsang",
      "photoUrl": "https://lh5.googleusercontent.com/-lYIovmob2c4/AAAAAAAAAAI/AAAAAAAAAOk/emXLpR62El4/s64/photo.jpg",
      "userId": "16334715475113401385"
     }
    }
   },
   "outputs": [
    {
     "name": "stdout",
     "output_type": "stream",
     "text": [
      "__________________________________________________________________________________________________\n",
      "Layer (type)                    Output Shape         Param #     Connected to                     \n",
      "==================================================================================================\n",
      "data (InputLayer)               (None, 32, 32, 3)    0                                            \n",
      "__________________________________________________________________________________________________\n",
      "bn_data (BatchNormalization)    (None, 32, 32, 3)    9           data[0][0]                       \n",
      "__________________________________________________________________________________________________\n",
      "zero_padding2d_1 (ZeroPadding2D (None, 38, 38, 3)    0           bn_data[0][0]                    \n",
      "__________________________________________________________________________________________________\n",
      "conv0 (Conv2D)                  (None, 16, 16, 64)   9408        zero_padding2d_1[0][0]           \n",
      "__________________________________________________________________________________________________\n",
      "bn0 (BatchNormalization)        (None, 16, 16, 64)   256         conv0[0][0]                      \n",
      "__________________________________________________________________________________________________\n",
      "relu0 (Activation)              (None, 16, 16, 64)   0           bn0[0][0]                        \n",
      "__________________________________________________________________________________________________\n",
      "zero_padding2d_2 (ZeroPadding2D (None, 18, 18, 64)   0           relu0[0][0]                      \n",
      "__________________________________________________________________________________________________\n",
      "pooling0 (MaxPooling2D)         (None, 8, 8, 64)     0           zero_padding2d_2[0][0]           \n",
      "__________________________________________________________________________________________________\n",
      "stage1_unit1_bn1 (BatchNormaliz (None, 8, 8, 64)     256         pooling0[0][0]                   \n",
      "__________________________________________________________________________________________________\n",
      "stage1_unit1_relu1 (Activation) (None, 8, 8, 64)     0           stage1_unit1_bn1[0][0]           \n",
      "__________________________________________________________________________________________________\n",
      "zero_padding2d_3 (ZeroPadding2D (None, 10, 10, 64)   0           stage1_unit1_relu1[0][0]         \n",
      "__________________________________________________________________________________________________\n",
      "stage1_unit1_conv1 (Conv2D)     (None, 8, 8, 64)     36864       zero_padding2d_3[0][0]           \n",
      "__________________________________________________________________________________________________\n",
      "stage1_unit1_bn2 (BatchNormaliz (None, 8, 8, 64)     256         stage1_unit1_conv1[0][0]         \n",
      "__________________________________________________________________________________________________\n",
      "stage1_unit1_relu2 (Activation) (None, 8, 8, 64)     0           stage1_unit1_bn2[0][0]           \n",
      "__________________________________________________________________________________________________\n",
      "zero_padding2d_4 (ZeroPadding2D (None, 10, 10, 64)   0           stage1_unit1_relu2[0][0]         \n",
      "__________________________________________________________________________________________________\n",
      "stage1_unit1_conv2 (Conv2D)     (None, 8, 8, 64)     36864       zero_padding2d_4[0][0]           \n",
      "__________________________________________________________________________________________________\n",
      "stage1_unit1_sc (Conv2D)        (None, 8, 8, 64)     4096        stage1_unit1_relu1[0][0]         \n",
      "__________________________________________________________________________________________________\n",
      "add_1 (Add)                     (None, 8, 8, 64)     0           stage1_unit1_conv2[0][0]         \n",
      "                                                                 stage1_unit1_sc[0][0]            \n",
      "__________________________________________________________________________________________________\n",
      "stage1_unit2_bn1 (BatchNormaliz (None, 8, 8, 64)     256         add_1[0][0]                      \n",
      "__________________________________________________________________________________________________\n",
      "stage1_unit2_relu1 (Activation) (None, 8, 8, 64)     0           stage1_unit2_bn1[0][0]           \n",
      "__________________________________________________________________________________________________\n",
      "zero_padding2d_5 (ZeroPadding2D (None, 10, 10, 64)   0           stage1_unit2_relu1[0][0]         \n",
      "__________________________________________________________________________________________________\n",
      "stage1_unit2_conv1 (Conv2D)     (None, 8, 8, 64)     36864       zero_padding2d_5[0][0]           \n",
      "__________________________________________________________________________________________________\n",
      "stage1_unit2_bn2 (BatchNormaliz (None, 8, 8, 64)     256         stage1_unit2_conv1[0][0]         \n",
      "__________________________________________________________________________________________________\n",
      "stage1_unit2_relu2 (Activation) (None, 8, 8, 64)     0           stage1_unit2_bn2[0][0]           \n",
      "__________________________________________________________________________________________________\n",
      "zero_padding2d_6 (ZeroPadding2D (None, 10, 10, 64)   0           stage1_unit2_relu2[0][0]         \n",
      "__________________________________________________________________________________________________\n",
      "stage1_unit2_conv2 (Conv2D)     (None, 8, 8, 64)     36864       zero_padding2d_6[0][0]           \n",
      "__________________________________________________________________________________________________\n",
      "add_2 (Add)                     (None, 8, 8, 64)     0           stage1_unit2_conv2[0][0]         \n",
      "                                                                 add_1[0][0]                      \n",
      "__________________________________________________________________________________________________\n",
      "stage2_unit1_bn1 (BatchNormaliz (None, 8, 8, 64)     256         add_2[0][0]                      \n",
      "__________________________________________________________________________________________________\n",
      "stage2_unit1_relu1 (Activation) (None, 8, 8, 64)     0           stage2_unit1_bn1[0][0]           \n",
      "__________________________________________________________________________________________________\n",
      "zero_padding2d_7 (ZeroPadding2D (None, 10, 10, 64)   0           stage2_unit1_relu1[0][0]         \n",
      "__________________________________________________________________________________________________\n",
      "stage2_unit1_conv1 (Conv2D)     (None, 4, 4, 128)    73728       zero_padding2d_7[0][0]           \n",
      "__________________________________________________________________________________________________\n",
      "stage2_unit1_bn2 (BatchNormaliz (None, 4, 4, 128)    512         stage2_unit1_conv1[0][0]         \n",
      "__________________________________________________________________________________________________\n",
      "stage2_unit1_relu2 (Activation) (None, 4, 4, 128)    0           stage2_unit1_bn2[0][0]           \n",
      "__________________________________________________________________________________________________\n",
      "zero_padding2d_8 (ZeroPadding2D (None, 6, 6, 128)    0           stage2_unit1_relu2[0][0]         \n",
      "__________________________________________________________________________________________________\n",
      "stage2_unit1_conv2 (Conv2D)     (None, 4, 4, 128)    147456      zero_padding2d_8[0][0]           \n",
      "__________________________________________________________________________________________________\n",
      "stage2_unit1_sc (Conv2D)        (None, 4, 4, 128)    8192        stage2_unit1_relu1[0][0]         \n",
      "__________________________________________________________________________________________________\n",
      "add_3 (Add)                     (None, 4, 4, 128)    0           stage2_unit1_conv2[0][0]         \n",
      "                                                                 stage2_unit1_sc[0][0]            \n",
      "__________________________________________________________________________________________________\n",
      "stage2_unit2_bn1 (BatchNormaliz (None, 4, 4, 128)    512         add_3[0][0]                      \n",
      "__________________________________________________________________________________________________\n",
      "stage2_unit2_relu1 (Activation) (None, 4, 4, 128)    0           stage2_unit2_bn1[0][0]           \n",
      "__________________________________________________________________________________________________\n",
      "zero_padding2d_9 (ZeroPadding2D (None, 6, 6, 128)    0           stage2_unit2_relu1[0][0]         \n",
      "__________________________________________________________________________________________________\n",
      "stage2_unit2_conv1 (Conv2D)     (None, 4, 4, 128)    147456      zero_padding2d_9[0][0]           \n",
      "__________________________________________________________________________________________________\n",
      "stage2_unit2_bn2 (BatchNormaliz (None, 4, 4, 128)    512         stage2_unit2_conv1[0][0]         \n",
      "__________________________________________________________________________________________________\n",
      "stage2_unit2_relu2 (Activation) (None, 4, 4, 128)    0           stage2_unit2_bn2[0][0]           \n",
      "__________________________________________________________________________________________________\n",
      "zero_padding2d_10 (ZeroPadding2 (None, 6, 6, 128)    0           stage2_unit2_relu2[0][0]         \n",
      "__________________________________________________________________________________________________\n",
      "stage2_unit2_conv2 (Conv2D)     (None, 4, 4, 128)    147456      zero_padding2d_10[0][0]          \n",
      "__________________________________________________________________________________________________\n",
      "add_4 (Add)                     (None, 4, 4, 128)    0           stage2_unit2_conv2[0][0]         \n",
      "                                                                 add_3[0][0]                      \n",
      "__________________________________________________________________________________________________\n",
      "stage3_unit1_bn1 (BatchNormaliz (None, 4, 4, 128)    512         add_4[0][0]                      \n",
      "__________________________________________________________________________________________________\n",
      "stage3_unit1_relu1 (Activation) (None, 4, 4, 128)    0           stage3_unit1_bn1[0][0]           \n",
      "__________________________________________________________________________________________________\n",
      "zero_padding2d_11 (ZeroPadding2 (None, 6, 6, 128)    0           stage3_unit1_relu1[0][0]         \n",
      "__________________________________________________________________________________________________\n",
      "stage3_unit1_conv1 (Conv2D)     (None, 2, 2, 256)    294912      zero_padding2d_11[0][0]          \n",
      "__________________________________________________________________________________________________\n",
      "stage3_unit1_bn2 (BatchNormaliz (None, 2, 2, 256)    1024        stage3_unit1_conv1[0][0]         \n",
      "__________________________________________________________________________________________________\n",
      "stage3_unit1_relu2 (Activation) (None, 2, 2, 256)    0           stage3_unit1_bn2[0][0]           \n",
      "__________________________________________________________________________________________________\n",
      "zero_padding2d_12 (ZeroPadding2 (None, 4, 4, 256)    0           stage3_unit1_relu2[0][0]         \n",
      "__________________________________________________________________________________________________\n",
      "stage3_unit1_conv2 (Conv2D)     (None, 2, 2, 256)    589824      zero_padding2d_12[0][0]          \n",
      "__________________________________________________________________________________________________\n",
      "stage3_unit1_sc (Conv2D)        (None, 2, 2, 256)    32768       stage3_unit1_relu1[0][0]         \n",
      "__________________________________________________________________________________________________\n",
      "add_5 (Add)                     (None, 2, 2, 256)    0           stage3_unit1_conv2[0][0]         \n",
      "                                                                 stage3_unit1_sc[0][0]            \n",
      "__________________________________________________________________________________________________\n",
      "stage3_unit2_bn1 (BatchNormaliz (None, 2, 2, 256)    1024        add_5[0][0]                      \n",
      "__________________________________________________________________________________________________\n",
      "stage3_unit2_relu1 (Activation) (None, 2, 2, 256)    0           stage3_unit2_bn1[0][0]           \n",
      "__________________________________________________________________________________________________\n",
      "zero_padding2d_13 (ZeroPadding2 (None, 4, 4, 256)    0           stage3_unit2_relu1[0][0]         \n",
      "__________________________________________________________________________________________________\n",
      "stage3_unit2_conv1 (Conv2D)     (None, 2, 2, 256)    589824      zero_padding2d_13[0][0]          \n",
      "__________________________________________________________________________________________________\n",
      "stage3_unit2_bn2 (BatchNormaliz (None, 2, 2, 256)    1024        stage3_unit2_conv1[0][0]         \n",
      "__________________________________________________________________________________________________\n",
      "stage3_unit2_relu2 (Activation) (None, 2, 2, 256)    0           stage3_unit2_bn2[0][0]           \n",
      "__________________________________________________________________________________________________\n",
      "zero_padding2d_14 (ZeroPadding2 (None, 4, 4, 256)    0           stage3_unit2_relu2[0][0]         \n",
      "__________________________________________________________________________________________________\n",
      "stage3_unit2_conv2 (Conv2D)     (None, 2, 2, 256)    589824      zero_padding2d_14[0][0]          \n",
      "__________________________________________________________________________________________________\n",
      "add_6 (Add)                     (None, 2, 2, 256)    0           stage3_unit2_conv2[0][0]         \n",
      "                                                                 add_5[0][0]                      \n",
      "__________________________________________________________________________________________________\n",
      "stage4_unit1_bn1 (BatchNormaliz (None, 2, 2, 256)    1024        add_6[0][0]                      \n",
      "__________________________________________________________________________________________________\n",
      "stage4_unit1_relu1 (Activation) (None, 2, 2, 256)    0           stage4_unit1_bn1[0][0]           \n",
      "__________________________________________________________________________________________________\n",
      "zero_padding2d_15 (ZeroPadding2 (None, 4, 4, 256)    0           stage4_unit1_relu1[0][0]         \n",
      "__________________________________________________________________________________________________\n",
      "stage4_unit1_conv1 (Conv2D)     (None, 1, 1, 512)    1179648     zero_padding2d_15[0][0]          \n",
      "__________________________________________________________________________________________________\n",
      "stage4_unit1_bn2 (BatchNormaliz (None, 1, 1, 512)    2048        stage4_unit1_conv1[0][0]         \n",
      "__________________________________________________________________________________________________\n",
      "stage4_unit1_relu2 (Activation) (None, 1, 1, 512)    0           stage4_unit1_bn2[0][0]           \n",
      "__________________________________________________________________________________________________\n",
      "zero_padding2d_16 (ZeroPadding2 (None, 3, 3, 512)    0           stage4_unit1_relu2[0][0]         \n",
      "__________________________________________________________________________________________________\n",
      "stage4_unit1_conv2 (Conv2D)     (None, 1, 1, 512)    2359296     zero_padding2d_16[0][0]          \n",
      "__________________________________________________________________________________________________\n",
      "stage4_unit1_sc (Conv2D)        (None, 1, 1, 512)    131072      stage4_unit1_relu1[0][0]         \n",
      "__________________________________________________________________________________________________\n",
      "add_7 (Add)                     (None, 1, 1, 512)    0           stage4_unit1_conv2[0][0]         \n",
      "                                                                 stage4_unit1_sc[0][0]            \n",
      "__________________________________________________________________________________________________\n",
      "stage4_unit2_bn1 (BatchNormaliz (None, 1, 1, 512)    2048        add_7[0][0]                      \n",
      "__________________________________________________________________________________________________\n",
      "stage4_unit2_relu1 (Activation) (None, 1, 1, 512)    0           stage4_unit2_bn1[0][0]           \n",
      "__________________________________________________________________________________________________\n",
      "zero_padding2d_17 (ZeroPadding2 (None, 3, 3, 512)    0           stage4_unit2_relu1[0][0]         \n",
      "__________________________________________________________________________________________________\n",
      "stage4_unit2_conv1 (Conv2D)     (None, 1, 1, 512)    2359296     zero_padding2d_17[0][0]          \n",
      "__________________________________________________________________________________________________\n",
      "stage4_unit2_bn2 (BatchNormaliz (None, 1, 1, 512)    2048        stage4_unit2_conv1[0][0]         \n",
      "__________________________________________________________________________________________________\n",
      "stage4_unit2_relu2 (Activation) (None, 1, 1, 512)    0           stage4_unit2_bn2[0][0]           \n",
      "__________________________________________________________________________________________________\n",
      "zero_padding2d_18 (ZeroPadding2 (None, 3, 3, 512)    0           stage4_unit2_relu2[0][0]         \n",
      "__________________________________________________________________________________________________\n",
      "stage4_unit2_conv2 (Conv2D)     (None, 1, 1, 512)    2359296     zero_padding2d_18[0][0]          \n",
      "__________________________________________________________________________________________________\n",
      "add_8 (Add)                     (None, 1, 1, 512)    0           stage4_unit2_conv2[0][0]         \n",
      "                                                                 add_7[0][0]                      \n",
      "__________________________________________________________________________________________________\n",
      "bn1 (BatchNormalization)        (None, 1, 1, 512)    2048        add_8[0][0]                      \n",
      "__________________________________________________________________________________________________\n",
      "relu1 (Activation)              (None, 1, 1, 512)    0           bn1[0][0]                        \n",
      "__________________________________________________________________________________________________\n",
      "Conv_1 (Conv2D)                 (None, 1, 1, 10)     5120        relu1[0][0]                      \n",
      "__________________________________________________________________________________________________\n",
      "global_average_pooling2d_1 (Glo (None, 10)           0           Conv_1[0][0]                     \n",
      "__________________________________________________________________________________________________\n",
      "activation_1 (Activation)       (None, 10)           0           global_average_pooling2d_1[0][0] \n",
      "==================================================================================================\n",
      "Total params: 11,192,009\n",
      "Trainable params: 2,365,440\n",
      "Non-trainable params: 8,826,569\n",
      "__________________________________________________________________________________________________\n"
     ]
    }
   ],
   "source": [
    "from keras.models import Model\n",
    "from keras.layers import Dense, Activation, GlobalAveragePooling2D, Conv2D\n",
    "n_classes=10\n",
    "\n",
    "additional_layer = Conv2D(n_classes, (1,1),strides=(1,1), padding='same', name='Conv_1', use_bias=False)(base_model.output)\n",
    "\n",
    "additional_layer = GlobalAveragePooling2D()(additional_layer)\n",
    "output = Activation('softmax')(additional_layer)\n",
    "\n",
    "model = Model(inputs=base_model.input, outputs=output)\n",
    "\n",
    "model.summary()"
   ]
  },
  {
   "cell_type": "markdown",
   "metadata": {
    "id": "-Nt5Y_oeYv7R",
    "colab_type": "text"
   },
   "source": [
    "### compiling and training"
   ]
  },
  {
   "cell_type": "code",
   "execution_count": 11,
   "metadata": {
    "id": "oAcXD1thYlgc",
    "colab_type": "code",
    "colab": {
     "base_uri": "https://localhost:8080/",
     "height": 810.0
    },
    "outputId": "0821a389-121e-4196-ada4-dbf8f98d9e36",
    "executionInfo": {
     "status": "ok",
     "timestamp": 1.562767153711E12,
     "user_tz": -330.0,
     "elapsed": 711816.0,
     "user": {
      "displayName": "Urmila Airsang",
      "photoUrl": "https://lh5.googleusercontent.com/-lYIovmob2c4/AAAAAAAAAAI/AAAAAAAAAOk/emXLpR62El4/s64/photo.jpg",
      "userId": "16334715475113401385"
     }
    }
   },
   "outputs": [
    {
     "name": "stderr",
     "output_type": "stream",
     "text": [
      "W0710 13:47:45.009280 139715639162752 deprecation_wrapper.py:119] From /usr/local/lib/python3.6/dist-packages/keras/optimizers.py:790: The name tf.train.Optimizer is deprecated. Please use tf.compat.v1.train.Optimizer instead.\n",
      "\n",
      "W0710 13:47:45.144493 139715639162752 deprecation.py:323] From /usr/local/lib/python3.6/dist-packages/tensorflow/python/ops/math_grad.py:1250: add_dispatch_support.<locals>.wrapper (from tensorflow.python.ops.array_ops) is deprecated and will be removed in a future version.\n",
      "Instructions for updating:\n",
      "Use tf.where in 2.0, which has the same broadcast rule as np.where\n"
     ]
    },
    {
     "name": "stdout",
     "output_type": "stream",
     "text": [
      "Epoch 1/20\n",
      "50000/50000 [==============================] - 38s 753us/step - loss: 1.5701 - acc: 0.4641\n",
      "Epoch 2/20\n",
      "50000/50000 [==============================] - 35s 694us/step - loss: 1.3072 - acc: 0.5447\n",
      "Epoch 3/20\n",
      "50000/50000 [==============================] - 34s 689us/step - loss: 1.2407 - acc: 0.5646\n",
      "Epoch 4/20\n",
      "50000/50000 [==============================] - 34s 689us/step - loss: 1.1996 - acc: 0.5768\n",
      "Epoch 5/20\n",
      "50000/50000 [==============================] - 34s 690us/step - loss: 1.1778 - acc: 0.5850\n",
      "Epoch 6/20\n",
      "50000/50000 [==============================] - 35s 693us/step - loss: 1.1499 - acc: 0.5938\n",
      "Epoch 7/20\n",
      "50000/50000 [==============================] - 35s 694us/step - loss: 1.1334 - acc: 0.6047\n",
      "Epoch 8/20\n",
      "50000/50000 [==============================] - 34s 689us/step - loss: 1.1164 - acc: 0.6063\n",
      "Epoch 9/20\n",
      "50000/50000 [==============================] - 34s 680us/step - loss: 1.0998 - acc: 0.6122\n",
      "Epoch 10/20\n",
      "50000/50000 [==============================] - 34s 682us/step - loss: 1.0878 - acc: 0.6182\n",
      "Epoch 11/20\n",
      "50000/50000 [==============================] - 34s 683us/step - loss: 1.0706 - acc: 0.6239\n",
      "Epoch 12/20\n",
      "50000/50000 [==============================] - 34s 678us/step - loss: 1.0649 - acc: 0.6214\n",
      "Epoch 13/20\n",
      "50000/50000 [==============================] - 34s 679us/step - loss: 1.0435 - acc: 0.6314\n",
      "Epoch 14/20\n",
      "50000/50000 [==============================] - 34s 679us/step - loss: 1.0427 - acc: 0.6321\n",
      "Epoch 15/20\n",
      "50000/50000 [==============================] - 34s 683us/step - loss: 1.0259 - acc: 0.6373\n",
      "Epoch 16/20\n",
      "50000/50000 [==============================] - 34s 679us/step - loss: 1.0275 - acc: 0.6391\n",
      "Epoch 17/20\n",
      "50000/50000 [==============================] - 34s 680us/step - loss: 1.0116 - acc: 0.6432\n",
      "Epoch 18/20\n",
      "50000/50000 [==============================] - 34s 680us/step - loss: 1.0036 - acc: 0.6440\n",
      "Epoch 19/20\n",
      "50000/50000 [==============================] - 34s 679us/step - loss: 0.9924 - acc: 0.6501\n",
      "Epoch 20/20\n",
      "50000/50000 [==============================] - 34s 681us/step - loss: 0.9932 - acc: 0.6513\n"
     ]
    },
    {
     "data": {
      "text/plain": [
       "<keras.callbacks.History at 0x7f117e07f550>"
      ]
     },
     "execution_count": 11,
     "metadata": {
      "tags": []
     },
     "output_type": "execute_result"
    }
   ],
   "source": [
    " from keras import optimizers\n",
    " sgd = optimizers.SGD(lr=1e-3, decay=1e-6, momentum=0.9, nesterov=True)\n",
    " model.compile(optimizer=sgd, loss='categorical_crossentropy', metrics=['accuracy'])\n",
    " model.fit(Xp, ytrain, epochs=20)"
   ]
  },
  {
   "cell_type": "markdown",
   "metadata": {
    "id": "MX1Cei-_MQPE",
    "colab_type": "text"
   },
   "source": [
    "###Predictions"
   ]
  },
  {
   "cell_type": "code",
   "execution_count": 0,
   "metadata": {
    "id": "MbjIL6FZMQkF",
    "colab_type": "code",
    "colab": {}
   },
   "outputs": [],
   "source": [
    "preds = model.predict(Xtest)"
   ]
  },
  {
   "cell_type": "markdown",
   "metadata": {
    "id": "TOvfx5INa4_e",
    "colab_type": "text"
   },
   "source": [
    "http://www.hackevolve.com/where-cnn-is-looking-grad-cam/\n",
    "\n",
    "Compute the gradient of the class output value with respect to the feature map. Then, we pool the gradients over all the axes leaving out the channel dimension. Finally, we weigh the output feature map with the computed gradient values."
   ]
  },
  {
   "cell_type": "markdown",
   "metadata": {
    "id": "HIjBL0rma6m7",
    "colab_type": "text"
   },
   "source": [
    "We then average the weighed feature map along the channel dimension resulting in a heat map of size 14 \\times 14. And, then we normalize the heat map to make the values in between 0 and 1."
   ]
  },
  {
   "cell_type": "markdown",
   "metadata": {
    "id": "e_0RNM0i45p9",
    "colab_type": "text"
   },
   "source": [
    ""
   ]
  },
  {
   "cell_type": "code",
   "execution_count": 31,
   "metadata": {
    "id": "sHFkCwh444wa",
    "colab_type": "code",
    "colab": {
     "base_uri": "https://localhost:8080/",
     "height": 1000.0,
     "output_embedded_package_id": "1XmjsKBfMmsomz1kCckk5FEboH6Q_Xz5J"
    },
    "outputId": "c5bb4a22-dd09-4bf1-d67c-6701cb6975c8",
    "executionInfo": {
     "status": "ok",
     "timestamp": 1.562769537868E12,
     "user_tz": -330.0,
     "elapsed": 388061.0,
     "user": {
      "displayName": "Urmila Airsang",
      "photoUrl": "https://lh5.googleusercontent.com/-lYIovmob2c4/AAAAAAAAAAI/AAAAAAAAAOk/emXLpR62El4/s64/photo.jpg",
      "userId": "16334715475113401385"
     }
    }
   },
   "outputs": [
    {
     "data": {
      "text/plain": [
       "Output hidden; open in https://colab.research.google.com to view."
      ]
     },
     "metadata": {},
     "output_type": "display_data"
    }
   ],
   "source": [
    "import keras.backend as K\n",
    "import numpy as np\n",
    "import matplotlib.pyplot as plt\n",
    "import cv2\n",
    "from google.colab.patches import cv2_imshow\n",
    "\n",
    "#List of labels\n",
    "label_list = [\"airplane\", \"automobile\", \"bird\", \"cat\", \"deer\", \"dog\", \"frog\",\"horse\", \"ship\", \"truck\"]\n",
    "#label_vec= cifar10.classnames()\n",
    "\n",
    "displayImgCount = 0\n",
    "for i in range(0,(len(preds)-1)):\n",
    "  if(displayImgCount!=50):    \n",
    "    class_idx = np.argmax(preds[i])\n",
    "    if (yt[i]!=class_idx):\n",
    "      actual_label = int(yt[i])\n",
    "      displayImgCount = displayImgCount+1\n",
    "      output = model.output[:, class_idx]\n",
    "      last_conv_layer = model.get_layer(\"stage2_unit1_conv1\")\n",
    "      grads = K.gradients(output, last_conv_layer.output)[0]\n",
    "      pooled_grads = K.mean(grads, axis=(0, 1, 2))\n",
    "      iterate = K.function([model.input], [pooled_grads, last_conv_layer.output[0]])\n",
    "      pooled_grads_value, conv_layer_output_value = iterate([Xtest])\n",
    "      for cc in range(128):\n",
    "          conv_layer_output_value[:, :, cc] *= pooled_grads_value[cc]\n",
    "\n",
    "      heatmap = np.mean(conv_layer_output_value, axis=-1)\n",
    "      heatmap = np.maximum(heatmap, 0)\n",
    "      heatmap /= np.max(heatmap)\n",
    "      \n",
    "      img = Xtest[i]\n",
    "      heatmap = cv2.resize(heatmap, (img.shape[1], img.shape[0]))\n",
    "      heatmap = np.uint8(255 * heatmap)\n",
    "      heatmap = cv2.applyColorMap(heatmap, cv2.COLORMAP_JET)\n",
    "      superimposed_img = cv2.addWeighted(img, 0.6, heatmap, 0.4, 0)\n",
    "\n",
    "      img = cv2.resize(img,(256,256))\n",
    "      superimposed_img = cv2.resize(superimposed_img,(256,256))\n",
    "      numpy_horizontal_concat = np.concatenate((img, superimposed_img), axis=1)\n",
    "      print('Actual:',label_list[actual_label],\"Predicted:\",label_list[class_idx])\n",
    "      cv2_imshow(numpy_horizontal_concat)"
   ]
  },
  {
   "cell_type": "code",
   "execution_count": 0,
   "metadata": {
    "id": "rsDWIM-SMBLz",
    "colab_type": "code",
    "colab": {}
   },
   "outputs": [],
   "source": [
    ""
   ]
  }
 ],
 "metadata": {
  "colab": {
   "name": "S3E3_assignment.ipynb",
   "version": "0.3.2",
   "provenance": [],
   "collapsed_sections": []
  },
  "kernelspec": {
   "name": "python3",
   "display_name": "Python 3"
  },
  "accelerator": "GPU"
 },
 "nbformat": 4,
 "nbformat_minor": 0
}
